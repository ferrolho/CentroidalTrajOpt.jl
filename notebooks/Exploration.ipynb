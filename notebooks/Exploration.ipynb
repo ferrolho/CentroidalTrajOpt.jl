{
 "cells": [
  {
   "cell_type": "code",
   "execution_count": null,
   "metadata": {},
   "outputs": [],
   "source": [
    "using Pkg\n",
    "Pkg.activate(@__DIR__)"
   ]
  },
  {
   "cell_type": "markdown",
   "metadata": {},
   "source": [
    "To do:\n",
    "\n",
    "* Test that CoPs are in region\n",
    "* Test that friction cone constraints are satisfied\n",
    "* Move utilities to appropriate places\n",
    "* better CoM kinematic constraints\n",
    "* Initial condition modification"
   ]
  },
  {
   "cell_type": "code",
   "execution_count": null,
   "metadata": {},
   "outputs": [],
   "source": [
    "using CentroidalTrajOpt\n",
    "using LinearAlgebra\n",
    "using SCIP\n",
    "using JuMP"
   ]
  },
  {
   "cell_type": "code",
   "execution_count": null,
   "metadata": {},
   "outputs": [],
   "source": [
    "# Environment setup\n",
    "num_regions = 1#2\n",
    "region_data = ContactRegion{Float64}[]\n",
    "for i = 1 : num_regions\n",
    "    region = ContactRegion(\n",
    "        AffineMap(one(RotMatrix{3}), zero(SVector{3})),\n",
    "        0.7,\n",
    "        0.3,\n",
    "        Float64[1 0; 0 1; -1 0; 0 -1],\n",
    "        5.0 * ones(4)\n",
    "    )\n",
    "    push!(region_data, region)\n",
    "end"
   ]
  },
  {
   "cell_type": "code",
   "execution_count": null,
   "metadata": {},
   "outputs": [],
   "source": [
    "# Initial conditions\n",
    "c0 = SVector(-0.05, 0.05, 1.0)\n",
    "ċ0 = SVector(0.45, 0.1, 0.1)\n",
    "contacts0 = [\n",
    "    region_data[1] => SVector(0.05, 0.15, 0.0),\n",
    "    region_data[1] => SVector(0.0, -0.15, 0.0)\n",
    "];"
   ]
  },
  {
   "cell_type": "code",
   "execution_count": null,
   "metadata": {},
   "outputs": [],
   "source": [
    "# Additional settings\n",
    "g = SVector(0.0, 0.0, -9.81);\n",
    "max_cop_distance = 0.1"
   ]
  },
  {
   "cell_type": "code",
   "execution_count": null,
   "metadata": {},
   "outputs": [],
   "source": [
    "optimizer_factory = with_optimizer(SCIP.Optimizer, limits_gap=0.05, limits_time=300);\n",
    "# optimizer_factory = with_optimizer(Ipopt.Optimizer)"
   ]
  },
  {
   "cell_type": "code",
   "execution_count": null,
   "metadata": {},
   "outputs": [],
   "source": [
    "problem = CentroidalTrajectoryProblem(optimizer_factory, region_data, c0, ċ0, contacts0;\n",
    "    g=g, max_cop_distance=max_cop_distance, num_pieces=3);"
   ]
  },
  {
   "cell_type": "code",
   "execution_count": null,
   "metadata": {},
   "outputs": [],
   "source": [
    "result = solve!(problem);"
   ]
  },
  {
   "cell_type": "code",
   "execution_count": null,
   "metadata": {},
   "outputs": [],
   "source": [
    "using Test\n",
    "c = result.center_of_mass\n",
    "ċ = map_subfunctions(x -> map_elements(derivative, x), c)\n",
    "c̈ = map_subfunctions(x -> map_elements(derivative, x), ċ)\n",
    "rs = result.centers_of_pressure\n",
    "fs = result.contact_forces\n",
    "τns = result.contact_normal_torques\n",
    "ps = result.contact_positions\n",
    "ns = normals(problem)\n",
    "\n",
    "# Times\n",
    "@test issorted(result.break_times)\n",
    "@test all(x -> x >= 0, result.break_times)\n",
    "\n",
    "T = last(result.break_times)\n",
    "\n",
    "# Initial and final conditions\n",
    "@test c(0) ≈ c0 atol=1e-12\n",
    "@test ċ(0) ≈ ċ0 atol=1e-12\n",
    "@test ċ(T) ≈ zeros(3) atol=1e-12\n",
    "@test c̈(T) ≈ zeros(3) atol=1e-12\n",
    "\n",
    "for t in range(0, T, length=100)\n",
    "    ftot = sum(fs[contact](t) for contact in problem.contacts.val)\n",
    "    \n",
    "    # Dynamics\n",
    "    @test c̈(t) ≈ g + ftot atol=1e-5\n",
    "    \n",
    "    # Torque about CoM\n",
    "    n = ns[problem.regions(1)]\n",
    "    τ = sum((rs[j](t) - c(t)) × fs[j](t) + n * τns[j](t) for j in problem.contacts.val)\n",
    "    @test τ ≈ zeros(3) atol=1e-4\n",
    "    \n",
    "    # Friction cones\n",
    "    for j in problem.contacts.val\n",
    "        zs = result.contact_indicators[j](t)\n",
    "        @test sum(zs) <= 1\n",
    "        region = findfirst(isequal(1), zs)\n",
    "        \n",
    "        f = fs[j]\n",
    "        τn = τns[j]\n",
    "        p = ps[j]\n",
    "        r = rs[j]\n",
    "        \n",
    "        f_t = f(t)\n",
    "        fn_t = f_t ⋅ n\n",
    "        τn_t = τn(t)\n",
    "        \n",
    "        @test fn_t >= 0\n",
    "        @test norm(p(t) - r(t)) < max_cop_distance + 1e-5\n",
    "        \n",
    "        # TODO: μ checks (first, get region)\n",
    "#         @test norm(f_t - n * fn_t) <= μ * fn_t + 1e-6\n",
    "#         @test -μrot * fn_t <= τn_t\n",
    "#         @test τn_t <= μrot * fn_s\n",
    "        \n",
    "        if region == nothing\n",
    "            @test f_t ≈ zero(f_t) atol=1e-10\n",
    "            @test τn_t ≈ zero(τn_t) atol=1e-10\n",
    "        end\n",
    "    end\n",
    "end\n",
    "\n",
    "# Continuity around breaks\n",
    "for t in result.break_times\n",
    "    @test c(t - 1e-8) ≈ c(t + 1e-8) atol=1e-5\n",
    "    @test ċ(t - 1e-8) ≈ ċ(t + 1e-8) atol=1e-5\n",
    "end"
   ]
  },
  {
   "cell_type": "code",
   "execution_count": null,
   "metadata": {},
   "outputs": [],
   "source": [
    "objective_value(problem.model)"
   ]
  },
  {
   "cell_type": "code",
   "execution_count": null,
   "metadata": {},
   "outputs": [],
   "source": [
    "using Plots"
   ]
  },
  {
   "cell_type": "code",
   "execution_count": null,
   "metadata": {},
   "outputs": [],
   "source": [
    "gr()\n",
    "tvals = range(0, T; length=100)\n",
    "cvals = [c(t) for t in tvals]\n",
    "rvals = [[rs[j](t) for t in tvals] for j in problem.contacts.val]\n",
    "ftotvals = [sum(fs[j](t) for j in problem.contacts.val) for t in tvals]\n",
    "plt = plot(getindex.(cvals, 1), getindex.(cvals, 2), getindex.(cvals, 3), label=\"CoM\", \n",
    "    xlims=[-0.2, 0.2], ylims=[-0.2, 0.2], zlims=[0, 1.2], aspect_ratio=1)\n",
    "for j in problem.contacts.val\n",
    "    plot!(plt, getindex.(rvals[j], 1), getindex.(rvals[j], 2), getindex.(rvals[j], 3), label=\"CoP $j\")\n",
    "end\n",
    "plt"
   ]
  },
  {
   "cell_type": "code",
   "execution_count": null,
   "metadata": {},
   "outputs": [],
   "source": []
  }
 ],
 "metadata": {
  "@webio": {
   "lastCommId": "070aa82390d440b9819b99b759071c7d",
   "lastKernelId": "044ebf43-9a52-40e5-82f7-fe5afa3bee92"
  },
  "kernelspec": {
   "display_name": "Julia 1.1.0",
   "language": "julia",
   "name": "julia-1.1"
  },
  "language_info": {
   "file_extension": ".jl",
   "mimetype": "application/julia",
   "name": "julia",
   "version": "1.1.0"
  }
 },
 "nbformat": 4,
 "nbformat_minor": 2
}
