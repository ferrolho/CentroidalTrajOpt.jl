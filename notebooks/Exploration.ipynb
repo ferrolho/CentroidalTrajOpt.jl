{
 "cells": [
  {
   "cell_type": "code",
   "execution_count": 1,
   "metadata": {},
   "outputs": [
    {
     "data": {
      "text/plain": [
       "\"/home/twan/.julia/dev/CentroidalTrajOpt/notebooks/Project.toml\""
      ]
     },
     "execution_count": 1,
     "metadata": {},
     "output_type": "execute_result"
    }
   ],
   "source": [
    "using Pkg\n",
    "Pkg.activate(@__DIR__)"
   ]
  },
  {
   "cell_type": "markdown",
   "metadata": {},
   "source": [
    "To do:\n",
    "\n",
    "* Environment data should have its own axis, not shared with contacts\n",
    "* Integer variables for contact pairs\n",
    "* Make a type that stores the problem and all the variables\n",
    "* Functions that transform coefficient arrays into e.g. piecewise Bezier curves\n",
    "* Try with a final CoM position condition\n",
    "* Initial condition modification"
   ]
  },
  {
   "cell_type": "markdown",
   "metadata": {},
   "source": [
    "For output, want all of the quantities in the loop below as (vectors of) piecewise Bezier curves, and as a function of $t$, not $s$. Need to do postprocessing after `optimize!` call for this; `JuMP.value` won't cut it. This is also why it doesn't make sense to use `Piecewise` when setting up the constraints: there isn't an absolute $t$ variable that's shared between the pieces, just the $s_i$s for each individual piece."
   ]
  },
  {
   "cell_type": "code",
   "execution_count": 2,
   "metadata": {},
   "outputs": [
    {
     "name": "stderr",
     "output_type": "stream",
     "text": [
      "┌ Info: Recompiling stale cache file /home/twan/.julia/compiled/v1.1/CentroidalTrajOpt/LBRaS.ji for CentroidalTrajOpt [e21b34eb-f2c9-558f-afd6-4aa30e1b9e96]\n",
      "└ @ Base loading.jl:1184\n"
     ]
    }
   ],
   "source": [
    "using CentroidalTrajOpt\n",
    "using SCIP"
   ]
  },
  {
   "cell_type": "code",
   "execution_count": 3,
   "metadata": {},
   "outputs": [
    {
     "data": {
      "text/plain": [
       "3-element StaticArrays.SArray{Tuple{3},Float64,1,3}:\n",
       " 0.25\n",
       " 0.15\n",
       " 0.1 "
      ]
     },
     "execution_count": 3,
     "metadata": {},
     "output_type": "execute_result"
    }
   ],
   "source": [
    "# Initial conditions\n",
    "c0 = SVector(0.05, 0.1, 1.0)\n",
    "ċ0 = SVector(0.25, 0.15, 0.1)"
   ]
  },
  {
   "cell_type": "code",
   "execution_count": 7,
   "metadata": {},
   "outputs": [],
   "source": [
    "problem = CentroidalTrajectoryProblem(with_optimizer(SCIP.Optimizer, limits_gap=CentroidalTrajOpt.Δt_tolerance), c0, ċ0);"
   ]
  },
  {
   "cell_type": "code",
   "execution_count": 8,
   "metadata": {},
   "outputs": [
    {
     "name": "stdout",
     "output_type": "stream",
     "text": [
      "presolving:\n",
      "(round 1, fast)       106 del vars, 182 del conss, 0 add conss, 152 chg bounds, 0 chg sides, 0 chg coeffs, 8 upgd conss, 0 impls, 0 clqs\n",
      "(round 2, fast)       106 del vars, 182 del conss, 0 add conss, 162 chg bounds, 0 chg sides, 0 chg coeffs, 8 upgd conss, 0 impls, 0 clqs\n",
      "(round 3, fast)       106 del vars, 182 del conss, 0 add conss, 186 chg bounds, 0 chg sides, 0 chg coeffs, 8 upgd conss, 0 impls, 0 clqs\n",
      "presolving (4 rounds: 4 fast, 1 medium, 1 exhaustive):\n",
      " 106 deleted vars, 182 deleted constraints, 0 added constraints, 186 tightened bounds, 0 added holes, 0 changed sides, 0 changed coefficients\n",
      " 0 implications, 0 cliques\n",
      "presolved problem has 70 variables (0 bin, 0 int, 0 impl, 70 cont) and 62 constraints\n",
      "      8 constraints of type <soc>\n",
      "     12 constraints of type <linear>\n",
      "     42 constraints of type <quadratic>\n",
      "transformed objective value is always integral (scale: 1)\n",
      "Presolving Time: 0.00\n",
      "\n",
      " time | node  | left  |LP iter|LP it/n| mem |mdpt |frac |vars |cons |cols |rows |cuts |confs|strbr|  dualbound   | primalbound  |  gap   \n",
      "  0.0s|     1 |     0 |    13 |     - |2136k|   0 |   0 |  70 |  62 |  70 | 180 |   0 |   0 |   0 | 0.000000e+00 |      --      |    Inf \n",
      "\n",
      "******************************************************************************\n",
      "This program contains Ipopt, a library for large-scale nonlinear optimization.\n",
      " Ipopt is released as open source code under the Eclipse Public License (EPL).\n",
      "         For more information visit http://projects.coin-or.org/Ipopt\n",
      "******************************************************************************\n",
      "\n",
      "t 0.2s|     1 |     0 |    13 |     - |2922k|   0 |   - |  70 |  62 |  70 | 180 |   0 |   0 |   0 | 0.000000e+00 | 0.000000e+00 |   0.00%\n",
      "  0.2s|     1 |     0 |    13 |     - |2922k|   0 |   - |  70 |  62 |  70 | 180 |   0 |   0 |   0 | 0.000000e+00 | 0.000000e+00 |   0.00%\n",
      "\n",
      "SCIP Status        : problem is solved [optimal solution found]\n",
      "Solving Time (sec) : 0.18\n",
      "Solving Nodes      : 1\n",
      "Primal Bound       : +0.00000000000000e+00 (1 solutions)\n",
      "Dual Bound         : +0.00000000000000e+00\n",
      "Gap                : 0.00 %\n"
     ]
    }
   ],
   "source": [
    "solve!(problem)"
   ]
  },
  {
   "cell_type": "code",
   "execution_count": null,
   "metadata": {},
   "outputs": [],
   "source": [
    "# TODO: update.\n",
    "using Test\n",
    "cval = value.(c)\n",
    "c′val = value.(c′)\n",
    "c′′val = value.(c′′)\n",
    "ftotval = value.(sum(fs))\n",
    "τval = value.(τ)\n",
    "fsval = map(f -> value.(f), fs)\n",
    "f̄sval = map(f̄ -> value.(f̄), f̄s)\n",
    "τnsval = value.(τns)\n",
    "Tval = T isa Number ? T : value(T) # TODO\n",
    "@test map(x -> x(0), cval) ≈ c0 atol=1e-12\n",
    "@test map(x -> x(0), c′val) ≈ ċ0 * Tval atol=1e-12\n",
    "@test map(x -> x(1), c′′val) ≈ zeros(3) atol=1e-12\n",
    "@test map(x -> x(1), c′′val) ≈ zeros(3) atol=1e-12\n",
    "for poly in τval\n",
    "   @test SVector(poly.coeffs) ≈ zeros(length(poly.coeffs)) atol=1e-6\n",
    "end\n",
    "for (fval, f̄val, τnval, transform, n, μ, μrot) in zip(fsval, f̄sval, τnsval, transforms, ns, μs, μrots)\n",
    "    for i in 1 : C_NUM_COEFFS - 2\n",
    "        f̄_control_point = map(x -> x.points[i], f̄val)\n",
    "        @test norm(f̄_control_point[1 : 2]) <= μ * f̄_control_point[3] + 1e-6\n",
    "    end\n",
    "    for s in range(0, stop=1., length=100)\n",
    "        f̄_s = map(x -> x(s), f̄val)\n",
    "        @test norm(f̄_s[1 : 2]) <= μ * f̄_s[3] + 1e-6\n",
    "\n",
    "        f_s = map(x -> x(s), fval)\n",
    "        fn_s = n ⋅ f_s\n",
    "        @test fn_s >= 0\n",
    "        @test norm(f_s - n * fn_s) <= μ * fn_s + 1e-6\n",
    "        \n",
    "        τn_s = τnval(s)\n",
    "        @test -μrot * fn_s <= τn_s\n",
    "        @test τn_s <= μrot * fn_s\n",
    "    end\n",
    "end"
   ]
  }
 ],
 "metadata": {
  "@webio": {
   "lastCommId": "8854bf5409fa4364bba0893419ec0ca0",
   "lastKernelId": "6be0232e-f753-4093-8739-8d75b4608aac"
  },
  "kernelspec": {
   "display_name": "Julia 1.1.0",
   "language": "julia",
   "name": "julia-1.1"
  },
  "language_info": {
   "file_extension": ".jl",
   "mimetype": "application/julia",
   "name": "julia",
   "version": "1.1.0"
  }
 },
 "nbformat": 4,
 "nbformat_minor": 2
}
