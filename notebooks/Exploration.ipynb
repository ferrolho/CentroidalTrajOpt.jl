{
 "cells": [
  {
   "cell_type": "code",
   "execution_count": 7,
   "metadata": {},
   "outputs": [
    {
     "data": {
      "text/plain": [
       "\"/home/twan/.julia/dev/CentroidalTrajOpt/notebooks/Project.toml\""
      ]
     },
     "execution_count": 7,
     "metadata": {},
     "output_type": "execute_result"
    }
   ],
   "source": [
    "using Pkg\n",
    "Pkg.activate(@__DIR__)"
   ]
  },
  {
   "cell_type": "markdown",
   "metadata": {},
   "source": [
    "To do:\n",
    "\n",
    "* Environment data should have its own axis, not shared with contacts\n",
    "* Integer variables for contact pairs\n",
    "* Initial condition modification\n",
    "* Test that CoPs are in region\n",
    "* Test that friction cone constraints are satisfied\n",
    "* Move utilities to appropriate places\n",
    "* Make foot locations variables\n",
    "* Fix CoPs during each piece? Try not to.\n",
    "* Constrain each CoP to be within a circle around the end effector position (to avoid rotation-dependence issues)"
   ]
  },
  {
   "cell_type": "code",
   "execution_count": 8,
   "metadata": {},
   "outputs": [],
   "source": [
    "using CentroidalTrajOpt\n",
    "using LinearAlgebra\n",
    "using SCIP"
   ]
  },
  {
   "cell_type": "code",
   "execution_count": 9,
   "metadata": {},
   "outputs": [],
   "source": [
    "# Initial conditions\n",
    "c0 = SVector(0.05, 0.1, 1.0)\n",
    "ċ0 = SVector(0.25, 0.15, 0.1)\n",
    "g = SVector(0.0, 0.0, -9.81);"
   ]
  },
  {
   "cell_type": "code",
   "execution_count": 10,
   "metadata": {},
   "outputs": [],
   "source": [
    "problem = CentroidalTrajectoryProblem(with_optimizer(SCIP.Optimizer, limits_gap=0.05), c0=c0, ċ0=ċ0, g=g);"
   ]
  },
  {
   "cell_type": "code",
   "execution_count": 11,
   "metadata": {},
   "outputs": [
    {
     "name": "stdout",
     "output_type": "stream",
     "text": [
      "presolving:\n",
      "(round 1, fast)       116 del vars, 157 del conss, 0 add conss, 126 chg bounds, 0 chg sides, 0 chg coeffs, 8 upgd conss, 0 impls, 0 clqs\n",
      "(round 2, fast)       116 del vars, 157 del conss, 0 add conss, 136 chg bounds, 0 chg sides, 0 chg coeffs, 8 upgd conss, 0 impls, 0 clqs\n",
      "(round 3, fast)       116 del vars, 157 del conss, 0 add conss, 160 chg bounds, 0 chg sides, 0 chg coeffs, 8 upgd conss, 0 impls, 0 clqs\n",
      "presolving (4 rounds: 4 fast, 1 medium, 1 exhaustive):\n",
      " 116 deleted vars, 157 deleted constraints, 0 added constraints, 160 tightened bounds, 0 added holes, 0 changed sides, 0 changed coefficients\n",
      " 0 implications, 0 cliques\n",
      "presolved problem has 64 variables (0 bin, 0 int, 0 impl, 64 cont) and 54 constraints\n",
      "      8 constraints of type <soc>\n",
      "      4 constraints of type <SOS1>\n",
      "      9 constraints of type <linear>\n",
      "     33 constraints of type <quadratic>\n",
      "transformed objective value is always integral (scale: 1)\n",
      "Presolving Time: 0.00\n",
      "\n",
      " time | node  | left  |LP iter|LP it/n| mem |mdpt |frac |vars |cons |cols |rows |cuts |confs|strbr|  dualbound   | primalbound  |  gap   \n",
      "  0.0s|     1 |     0 |    15 |     - |1885k|   0 |   0 |  64 |  54 |  64 |  13 |   0 |   0 |   0 | 0.000000e+00 |      --      |    Inf \n",
      "U 0.0s|     1 |     0 |    15 |     - |1946k|   0 |   - |  64 |  54 |  64 |  13 |   0 |   0 |   0 | 0.000000e+00 | 0.000000e+00 |   0.00%\n",
      "  0.0s|     1 |     0 |    15 |     - |1946k|   0 |   - |  64 |  54 |  64 |  13 |   0 |   0 |   0 | 0.000000e+00 | 0.000000e+00 |   0.00%\n",
      "\n",
      "SCIP Status        : problem is solved [optimal solution found]\n",
      "Solving Time (sec) : 0.02\n",
      "Solving Nodes      : 1\n",
      "Primal Bound       : +0.00000000000000e+00 (1 solutions)\n",
      "Dual Bound         : +0.00000000000000e+00\n",
      "Gap                : 0.00 %\n"
     ]
    }
   ],
   "source": [
    "result = solve!(problem);"
   ]
  },
  {
   "cell_type": "code",
   "execution_count": 12,
   "metadata": {},
   "outputs": [],
   "source": [
    "using Test\n",
    "c = result.center_of_mass\n",
    "ċ = map_subfunctions(x -> map_elements(derivative, x), c)\n",
    "c̈ = map_subfunctions(x -> map_elements(derivative, x), ċ)\n",
    "rs = result.centers_of_pressure\n",
    "fs = result.contact_forces\n",
    "τns = result.contact_normal_torques\n",
    "ns = normals(problem)\n",
    "\n",
    "# Times\n",
    "@test issorted(result.break_times)\n",
    "@test all(x -> x >= 0, result.break_times)\n",
    "\n",
    "T = last(result.break_times)\n",
    "\n",
    "# Initial and final conditions\n",
    "@test c(0) ≈ c0 atol=1e-12\n",
    "@test ċ(0) ≈ ċ0 atol=1e-12\n",
    "@test ċ(T) ≈ zeros(3) atol=1e-12\n",
    "@test c̈(T) ≈ zeros(3) atol=1e-12\n",
    "\n",
    "for t in range(0, T, length=100)\n",
    "    ftot = sum(fs[contact](t) for contact in problem.contacts.val)\n",
    "    \n",
    "    # Dynamics\n",
    "    @test c̈(t) ≈ g + ftot atol=1e-5\n",
    "    \n",
    "    # Torque about CoM\n",
    "    n = ns[problem.regions(1)]\n",
    "    τ = sum((rs[j](t) - c(t)) × fs[j](t) + n * τns[j](t) for j in problem.contacts.val)\n",
    "    @test τ ≈ zeros(3) atol=1e-4\n",
    "    \n",
    "    # Friction cones\n",
    "    for j in problem.contacts.val\n",
    "        f = fs[j]\n",
    "        τn = τns[j]\n",
    "        \n",
    "        f_t = f(t)\n",
    "        fn_t = f_t ⋅ n\n",
    "        τn_t = τn(t)\n",
    "        @test fn_t >= 0\n",
    "        \n",
    "        # TODO: μ checks\n",
    "#         @test norm(f_t - n * fn_t) <= μ * fn_t + 1e-6\n",
    "#         @test -μrot * fn_t <= τn_t\n",
    "#         @test τn_t <= μrot * fn_s\n",
    "    end\n",
    "end\n",
    "\n",
    "# Continuity around breaks\n",
    "for t in result.break_times\n",
    "    @test c(t - 1e-8) ≈ c(t + 1e-8) atol=1e-5\n",
    "    @test ċ(t - 1e-8) ≈ ċ(t + 1e-8) atol=1e-5\n",
    "end"
   ]
  },
  {
   "cell_type": "code",
   "execution_count": null,
   "metadata": {},
   "outputs": [],
   "source": []
  }
 ],
 "metadata": {
  "@webio": {
   "lastCommId": "b7b8f29c346b4e2983865197d767d587",
   "lastKernelId": "47bbc751-2e16-485f-ad1a-5017df5a38c5"
  },
  "kernelspec": {
   "display_name": "Julia 1.1.0",
   "language": "julia",
   "name": "julia-1.1"
  },
  "language_info": {
   "file_extension": ".jl",
   "mimetype": "application/julia",
   "name": "julia",
   "version": "1.1.0"
  }
 },
 "nbformat": 4,
 "nbformat_minor": 2
}
