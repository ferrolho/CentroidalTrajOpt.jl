{
 "cells": [
  {
   "cell_type": "code",
   "execution_count": null,
   "metadata": {},
   "outputs": [],
   "source": [
    "using Pkg\n",
    "Pkg.activate(@__DIR__)"
   ]
  },
  {
   "cell_type": "markdown",
   "metadata": {},
   "source": [
    "To do:\n",
    "\n",
    "* Environment data should have its own axis, not shared with contacts\n",
    "* Integer variables for contact pairs\n",
    "* Initial condition modification\n",
    "* Test that CoPs are in region\n",
    "* Test that friction cone constraints are satisfied\n",
    "* Move utilities to appropriate places\n",
    "* Make foot locations variables\n",
    "* Fix CoPs during each piece?"
   ]
  },
  {
   "cell_type": "code",
   "execution_count": null,
   "metadata": {},
   "outputs": [],
   "source": [
    "using CentroidalTrajOpt\n",
    "using LinearAlgebra\n",
    "using SCIP"
   ]
  },
  {
   "cell_type": "code",
   "execution_count": null,
   "metadata": {},
   "outputs": [],
   "source": [
    "# Initial conditions\n",
    "c0 = SVector(0.05, 0.1, 1.0)\n",
    "ċ0 = SVector(0.25, 0.15, 0.1)\n",
    "g = SVector(0.0, 0.0, -9.81);"
   ]
  },
  {
   "cell_type": "code",
   "execution_count": null,
   "metadata": {},
   "outputs": [],
   "source": [
    "problem = CentroidalTrajectoryProblem(with_optimizer(SCIP.Optimizer, limits_gap=0.05), c0=c0, ċ0=ċ0, g=g);"
   ]
  },
  {
   "cell_type": "code",
   "execution_count": null,
   "metadata": {},
   "outputs": [],
   "source": [
    "result = solve!(problem);"
   ]
  },
  {
   "cell_type": "code",
   "execution_count": null,
   "metadata": {},
   "outputs": [],
   "source": [
    "using Test\n",
    "c = result.center_of_mass\n",
    "ċ = map_subfunctions(x -> map_elements(derivative, x), c)\n",
    "c̈ = map_subfunctions(x -> map_elements(derivative, x), ċ)\n",
    "rs = result.centers_of_pressure\n",
    "fs = result.contact_forces\n",
    "τns = result.contact_normal_torques\n",
    "ns = normals(problem)\n",
    "\n",
    "# Times\n",
    "@test issorted(result.break_times)\n",
    "@test all(x -> x >= 0, result.break_times)\n",
    "\n",
    "T = last(result.break_times)\n",
    "\n",
    "# Initial and final conditions\n",
    "@test c(0) ≈ c0 atol=1e-12\n",
    "@test ċ(0) ≈ ċ0 atol=1e-12\n",
    "@test ċ(T) ≈ zeros(3) atol=1e-12\n",
    "@test c̈(T) ≈ zeros(3) atol=1e-12\n",
    "\n",
    "for t in range(0, T, length=100)\n",
    "    ftot = sum(fs[contact](t) for contact in problem.contacts.val)\n",
    "    \n",
    "    # Dynamics\n",
    "    @test c̈(t) ≈ g + ftot atol=1e-5\n",
    "    \n",
    "    # Torque about CoM\n",
    "    τ = sum((rs[j](t) - c(t)) × fs[j](t) + ns[j] * τns[j](t) for j in problem.contacts.val)\n",
    "    @test τ ≈ zeros(3) atol=1e-4\n",
    "    \n",
    "    # Friction cones\n",
    "    for j in problem.contacts.val\n",
    "        f = fs[j]\n",
    "        n = ns[j]\n",
    "        τn = τns[j]\n",
    "        \n",
    "        f_t = f(t)\n",
    "        fn_t = f_t ⋅ n\n",
    "        τn_t = τn(t)\n",
    "        @test fn_t >= 0\n",
    "        \n",
    "        # TODO: μ checks\n",
    "#         @test norm(f_t - n * fn_t) <= μ * fn_t + 1e-6\n",
    "#         @test -μrot * fn_t <= τn_t\n",
    "#         @test τn_t <= μrot * fn_s\n",
    "    end\n",
    "end\n",
    "\n",
    "# Continuity around breaks\n",
    "for t in result.break_times\n",
    "    @test c(t - 1e-8) ≈ c(t + 1e-8) atol=1e-5\n",
    "    @test ċ(t - 1e-8) ≈ ċ(t + 1e-8) atol=1e-5\n",
    "end"
   ]
  },
  {
   "cell_type": "code",
   "execution_count": null,
   "metadata": {},
   "outputs": [],
   "source": []
  }
 ],
 "metadata": {
  "@webio": {
   "lastCommId": "92c6ceca22ca4f5d9175ed2b96c09793",
   "lastKernelId": "47bbc751-2e16-485f-ad1a-5017df5a38c5"
  },
  "kernelspec": {
   "display_name": "Julia 1.1.0",
   "language": "julia",
   "name": "julia-1.1"
  },
  "language_info": {
   "file_extension": ".jl",
   "mimetype": "application/julia",
   "name": "julia",
   "version": "1.1.0"
  }
 },
 "nbformat": 4,
 "nbformat_minor": 2
}
